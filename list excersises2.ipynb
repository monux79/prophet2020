{
 "cells": [
  {
   "cell_type": "code",
   "execution_count": 7,
   "metadata": {},
   "outputs": [
    {
     "name": "stdout",
     "output_type": "stream",
     "text": [
      "6\n"
     ]
    }
   ],
   "source": [
    "from functools import reduce\n",
    "n=3\n",
    "\n",
    "factorial = reduce(lambda x, y: x * y, range(1, n+1))\n",
    "\n",
    "print(factorial)"
   ]
  },
  {
   "cell_type": "code",
   "execution_count": 55,
   "metadata": {},
   "outputs": [
    {
     "name": "stdout",
     "output_type": "stream",
     "text": [
      "[33, 2, 4, 3, 45, 6, 54]\n",
      "33\n",
      "2\n",
      "4\n",
      "3\n",
      "45\n",
      "6\n",
      "54\n"
     ]
    }
   ],
   "source": [
    "\n",
    "unsorted = [33,2,4,3,45,6,54]\n",
    "qsort = lambda L: [] if L==[] else qsort([x for x in L[1:] if x< L[0]]) + L[0] + qsort([x for x in L[1:] if x>=L[0]])\n",
    "print(unsorted)\n",
    "for item in unsorted:\n",
    "    print(item)"
   ]
  },
  {
   "cell_type": "code",
   "execution_count": 54,
   "metadata": {},
   "outputs": [
    {
     "name": "stdout",
     "output_type": "stream",
     "text": [
      "cats\n",
      "dogs\n",
      "mice\n"
     ]
    }
   ],
   "source": [
    "spam = {'cats': 10, 'dogs': 3, 'mice': 3}\n",
    "spam.keys()\n",
    "animals= list(spam.keys())\n",
    "\n",
    "for item in animals:\n",
    "    print(item)"
   ]
  },
  {
   "cell_type": "code",
   "execution_count": 56,
   "metadata": {},
   "outputs": [
    {
     "name": "stdout",
     "output_type": "stream",
     "text": [
      "44 2 67 61 48 95 3 67 47 35 25 93 41 31 30 23 27 43 33 33 91 72 65 94 42 44\n",
      "2\n",
      "67\n",
      "61\n",
      "48\n",
      "95\n",
      "3\n",
      "67\n",
      "47\n",
      "35\n",
      "25\n",
      "93\n",
      "41\n",
      "31\n",
      "30\n",
      "23\n",
      "27\n",
      "43\n",
      "33\n",
      "33\n",
      "91\n",
      "72\n",
      "65\n",
      "94\n",
      "42\n"
     ]
    }
   ],
   "source": [
    "from random import randint\n",
    "\n",
    "N=25\n",
    "array = []\n",
    "\n",
    "for i in range(N):\n",
    "    array.append(randint(1, 99))\n",
    "\n",
    "for i in array:\n",
    "    print(i,end=' ')\n",
    "\n",
    "for item in array:\n",
    "    print(item) "
   ]
  },
  {
   "cell_type": "code",
   "execution_count": 25,
   "metadata": {},
   "outputs": [
    {
     "name": "stdout",
     "output_type": "stream",
     "text": [
      "23 3 85 100 64 92 22 98 \n",
      "max: 100\n",
      "min: 3\n"
     ]
    }
   ],
   "source": [
    "from random import randint\n",
    "\n",
    "N = 8\n",
    "a = [0] * N\n",
    "\n",
    "for i in range(N):\n",
    "    a[i] = randint(0,100)\n",
    "    print(a[i], end=' ')\n",
    "print()\n",
    "maximum = max(a)\n",
    "minimum = min(a)\n",
    "\n",
    "for i in a:\n",
    "    if i > maximum:\n",
    "        maximum = i\n",
    "    if i < minimum:\n",
    "        minimum = i\n",
    "\n",
    "print(\"max:\", maximum)\n",
    "print(\"min:\", minimum)\n",
    "\n",
    "\n",
    "        "
   ]
  },
  {
   "cell_type": "code",
   "execution_count": 34,
   "metadata": {},
   "outputs": [],
   "source": [
    "def binary_search(data, elem):\n",
    "\n",
    "    low = 0\n",
    "    high = len(data) - 1\n",
    "\n",
    "    while low <= high:\n",
    "      \n",
    "        middle = (low + high)//2\n",
    "       \n",
    "        if data[middle] == elem:\n",
    "            return middle\n",
    "        elif data[middle] > elem:\n",
    "            high = middle - 1\n",
    "        else:\n",
    "            low = middle + 1\n",
    "\n",
    "    return -1"
   ]
  },
  {
   "cell_type": "code",
   "execution_count": 59,
   "metadata": {},
   "outputs": [
    {
     "data": {
      "text/plain": [
       "5"
      ]
     },
     "execution_count": 59,
     "metadata": {},
     "output_type": "execute_result"
    }
   ],
   "source": [
    "binary_search([2,4,5,6,7,8],8)"
   ]
  },
  {
   "cell_type": "code",
   "execution_count": 38,
   "metadata": {},
   "outputs": [
    {
     "name": "stdout",
     "output_type": "stream",
     "text": [
      "120\n",
      "720\n"
     ]
    }
   ],
   "source": [
    "def get_rec_fac(n):\n",
    "    if n < 0:\n",
    "        return -1\n",
    "    elif n < 2:\n",
    "        return 1\n",
    "    else: \n",
    "        return n * get_rec_fac(n-1)\n",
    "\n",
    "def get_itera_fac(n):\n",
    "    if n < 0:\n",
    "        return -1\n",
    "    else:\n",
    "        fact = 1\n",
    "        for i in range(1, n+1):\n",
    "            fact *=i\n",
    "        return fact\n",
    "    \n",
    "print(get_rec_fac(5))\n",
    "print(get_itera_fac(6))\n"
   ]
  },
  {
   "cell_type": "code",
   "execution_count": 41,
   "metadata": {},
   "outputs": [
    {
     "name": "stdout",
     "output_type": "stream",
     "text": [
      "['.ipynb_checkpoints', 'cheat sheets', 'Cisco_WebEx_Add-On.exe', 'download.html', 'ex1.py', 'palyndrome.ipynb', 'recursiveness vs iteration.py', 'testnotebook.ipynb', 'Untitled.ipynb', 'Untitled1.ipynb']\n",
      "C:\\Users\\liuyanxing\\Documents\\pypi\n"
     ]
    }
   ],
   "source": [
    "import os\n",
    "dir_list = os.listdir()\n",
    "print(dir_list)\n",
    "print(os.getcwd())"
   ]
  },
  {
   "cell_type": "code",
   "execution_count": 45,
   "metadata": {},
   "outputs": [
    {
     "name": "stdout",
     "output_type": "stream",
     "text": [
      "['.ipynb_checkpoints', 'cheat sheets', 'Cisco_WebEx_Add-On.exe', 'download.html', 'ex1.py', 'palyndrome.ipynb', 'recursiveness vs iteration.py', 'testnotebook.ipynb', 'Untitled.ipynb', 'Untitled1.ipynb']\n",
      ".ipynb_checkpoints\n",
      "cheat sheets\n",
      "Cisco_WebEx_Add-On.exe\n",
      "download.html\n",
      "ex1.py\n",
      "palyndrome.ipynb\n",
      "recursiveness vs iteration.py\n",
      "testnotebook.ipynb\n",
      "Untitled.ipynb\n",
      "Untitled1.ipynb\n"
     ]
    }
   ],
   "source": [
    "import os\n",
    "import subprocess\n",
    "import shutil\n",
    "from pprint import pprint\n",
    "\n",
    "# List the contents of a directory\n",
    "# This returns a list\n",
    "dir_list = os.listdir()\n",
    "print(dir_list)\n",
    "for item in dir_list:\n",
    "    print(item)"
   ]
  }
 ],
 "metadata": {
  "kernelspec": {
   "display_name": "Python 3",
   "language": "python",
   "name": "python3"
  },
  "language_info": {
   "codemirror_mode": {
    "name": "ipython",
    "version": 3
   },
   "file_extension": ".py",
   "mimetype": "text/x-python",
   "name": "python",
   "nbconvert_exporter": "python",
   "pygments_lexer": "ipython3",
   "version": "3.7.4"
  }
 },
 "nbformat": 4,
 "nbformat_minor": 2
}
