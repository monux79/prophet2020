{
 "cells": [
  {
   "cell_type": "code",
   "execution_count": 7,
   "metadata": {},
   "outputs": [
    {
     "name": "stdout",
     "output_type": "stream",
     "text": [
      "white\n",
      "black\n",
      "bello: woof\n",
      "bello: woof\n",
      "alice: woof\n",
      "sit\n"
     ]
    }
   ],
   "source": [
    "class Dog:\n",
    "    \"\"\" Blueprint of a dog \"\"\"\n",
    "    \n",
    "    species = [\"lupus canis\"]\n",
    "    \n",
    "    #constructor\n",
    "    def __init__(self, name, color):\n",
    "        #attributes\n",
    "        self.name= name\n",
    "        self.color= color\n",
    "        self.state= \"sleeping\"\n",
    "        \n",
    "    def command(self, x):\n",
    "        if x == self.name:\n",
    "            self.bark(2)\n",
    "        elif x == \"sit\":\n",
    "            self.state = \"sit\"\n",
    "        else:\n",
    "            self.state = \"wag tail\"\n",
    "    \n",
    "    def bark(self, freq):\n",
    "        for i in range(freq):\n",
    "            print(self.name + \": woof\")\n",
    "            \n",
    "bello = Dog(\"bello\", \"black\")\n",
    "alice = Dog(\"alice\", \"white\")\n",
    "\n",
    "print(alice.color)\n",
    "print(bello.color)    \n",
    "\n",
    "bello.bark(2)\n",
    "alice.bark(1)\n",
    "alice.command(\"sit\")\n",
    "print(alice.state)"
   ]
  },
  {
   "cell_type": "code",
   "execution_count": 13,
   "metadata": {},
   "outputs": [
    {
     "data": {
      "text/plain": [
       "False"
      ]
     },
     "execution_count": 13,
     "metadata": {},
     "output_type": "execute_result"
    }
   ],
   "source": [
    "def is_leap(year):\n",
    "    return year % 4 == 0 and (year % 400 == 0 or year % 100 != 0)\n",
    "\n",
    "is_leap(2018)"
   ]
  },
  {
   "cell_type": "code",
   "execution_count": 34,
   "metadata": {},
   "outputs": [
    {
     "name": "stdout",
     "output_type": "stream",
     "text": [
      "C:\\Users\\liuyanxing\\Documents\\pypi\n",
      ".ipynb_checkpoints\n",
      "cheat sheets\n",
      "Cisco_WebEx_Add-On.exe\n",
      "download.html\n",
      "ex1.py\n",
      "palyndrome.ipynb\n",
      "recursiveness vs iteration.py\n",
      "some-file.txt\n",
      "testnotebook.ipynb\n",
      "Untitled.ipynb\n",
      "Untitled1.ipynb\n",
      "Untitled2.ipynb\n",
      "Untitled3.ipynb\n"
     ]
    }
   ],
   "source": [
    "import os\n",
    "import subprocess\n",
    "import shutil\n",
    "from pprint import pprint\n",
    "\n",
    "# Get your current working directly\n",
    "# This returns a string\n",
    "my_cwd = os.getcwd()\n",
    "print(my_cwd)\n",
    "\n",
    "# List the contents of a directory\n",
    "# This returns a list\n",
    "dir_list = os.listdir()\n",
    "for item in dir_list:\n",
    "    print(item)"
   ]
  },
  {
   "cell_type": "code",
   "execution_count": 33,
   "metadata": {},
   "outputs": [
    {
     "data": {
      "text/plain": [
       "'C:\\\\Users\\\\liuyanxing\\\\Documents\\\\pypi\\\\some-file.txt'"
      ]
     },
     "execution_count": 33,
     "metadata": {},
     "output_type": "execute_result"
    }
   ],
   "source": [
    "# Get the Absolute Path name of a file (file + current working dir)\n",
    "os.path.abspath('some-file.txt')"
   ]
  },
  {
   "cell_type": "code",
   "execution_count": 37,
   "metadata": {},
   "outputs": [
    {
     "data": {
      "text/plain": [
       "('C:\\\\Users\\\\liuyanxing\\\\Documents', 'pypi')"
      ]
     },
     "execution_count": 37,
     "metadata": {},
     "output_type": "execute_result"
    }
   ],
   "source": [
    "#Get the basename - returns\n",
    "# Split a directory path - platform independent\n",
    "os.path.split(os.getcwd())"
   ]
  },
  {
   "cell_type": "code",
   "execution_count": 39,
   "metadata": {},
   "outputs": [
    {
     "data": {
      "text/plain": [
       "True"
      ]
     },
     "execution_count": 39,
     "metadata": {},
     "output_type": "execute_result"
    }
   ],
   "source": [
    "# Check if a path exists\n",
    "os.path.exists('\\\\Users\\\\liuyanxing\\\\Documents')"
   ]
  },
  {
   "cell_type": "code",
   "execution_count": 44,
   "metadata": {},
   "outputs": [
    {
     "name": "stdout",
     "output_type": "stream",
     "text": [
      ".ipynb_checkpoints\n",
      "cheat sheets\n",
      "Cisco_WebEx_Add-On.exe\n",
      "download.html\n",
      "ex1.py\n",
      "palyndrome.ipynb\n",
      "recursiveness vs iteration.py\n",
      "some-file.txt\n",
      "some-file2.txt\n",
      "testnotebook.ipynb\n",
      "Untitled.ipynb\n",
      "Untitled1.ipynb\n",
      "Untitled2.ipynb\n",
      "Untitled3.ipynb\n"
     ]
    }
   ],
   "source": [
    "shutil.copy('some-file.txt','some-file2.txt')"
   ]
  },
  {
   "cell_type": "code",
   "execution_count": 46,
   "metadata": {},
   "outputs": [
    {
     "data": {
      "text/plain": [
       "'some-file2.txt'"
      ]
     },
     "execution_count": 46,
     "metadata": {},
     "output_type": "execute_result"
    }
   ],
   "source": [
    "shutil.copy('some-file.txt','c:\\\\temp\\\\some-file2.txt')\n",
    "os.path.basename('c:\\\\temp\\\\some-file2.txt')"
   ]
  },
  {
   "cell_type": "code",
   "execution_count": 50,
   "metadata": {
    "scrolled": true
   },
   "outputs": [
    {
     "name": "stdout",
     "output_type": "stream",
     "text": [
      "4 8 12 16 \n",
      "3 7 11 15 \n",
      "2 6 10 14 \n",
      "1 5 9 13 \n"
     ]
    }
   ],
   "source": [
    "# Python3 program to rotate a matrix by 90 degrees \n",
    "N = 4\n",
    "  \n",
    "# An Inplace function to rotate  \n",
    "# N x N matrix by 90 degrees in \n",
    "# anti-clockwise direction \n",
    "def rotateMatrix(mat): \n",
    "      \n",
    "    # Consider all squares one by one \n",
    "    for x in range(0, int(N/2)): \n",
    "          \n",
    "        # Consider elements in group    \n",
    "        # of 4 in current square \n",
    "        for y in range(x, N-x-1): \n",
    "              \n",
    "            # store current cell in temp variable \n",
    "            temp = mat[x][y] \n",
    "  \n",
    "            # move values from right to top \n",
    "            mat[x][y] = mat[y][N-1-x] \n",
    "  \n",
    "            # move values from bottom to right \n",
    "            mat[y][N-1-x] = mat[N-1-x][N-1-y] \n",
    "  \n",
    "            # move values from left to bottom \n",
    "            mat[N-1-x][N-1-y] = mat[N-1-y][x] \n",
    "  \n",
    "            # assign temp to left \n",
    "            mat[N-1-y][x] = temp \n",
    "  \n",
    "  \n",
    "# Function to print the matrix \n",
    "def displayMatrix( mat ): \n",
    "      \n",
    "    for i in range(0, N): \n",
    "          \n",
    "        for j in range(0, N): \n",
    "              \n",
    "            print (mat[i][j], end = ' ') \n",
    "        print (\"\") \n",
    "      \n",
    "      \n",
    "  \n",
    "  \n",
    "# Driver Code \n",
    "mat = [[0 for x in range(N)] for y in range(N)] \n",
    "  \n",
    "# Test case 1 \n",
    "mat = [ [1, 2, 3, 4 ], \n",
    "        [5, 6, 7, 8 ], \n",
    "        [9, 10, 11, 12 ], \n",
    "        [13, 14, 15, 16 ] ] \n",
    "          \n",
    "''' \n",
    "# Test case 2 \n",
    "mat = [ [1, 2, 3 ], \n",
    "        [4, 5, 6 ], \n",
    "        [7, 8, 9 ] ] \n",
    "  \n",
    "# Test case 3 \n",
    "mat = [ [1, 2 ], \n",
    "        [4, 5 ] ] \n",
    "          \n",
    "'''\n",
    "  \n",
    "rotateMatrix(mat) \n",
    "  \n",
    "# Print rotated matrix \n",
    "displayMatrix(mat) \n",
    "  \n",
    "  \n",
    "# This code is contributed by saloni1297 "
   ]
  },
  {
   "cell_type": "code",
   "execution_count": null,
   "metadata": {},
   "outputs": [],
   "source": []
  }
 ],
 "metadata": {
  "kernelspec": {
   "display_name": "Python 3",
   "language": "python",
   "name": "python3"
  },
  "language_info": {
   "codemirror_mode": {
    "name": "ipython",
    "version": 3
   },
   "file_extension": ".py",
   "mimetype": "text/x-python",
   "name": "python",
   "nbconvert_exporter": "python",
   "pygments_lexer": "ipython3",
   "version": "3.7.4"
  }
 },
 "nbformat": 4,
 "nbformat_minor": 2
}
